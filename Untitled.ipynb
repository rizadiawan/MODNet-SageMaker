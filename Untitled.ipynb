{
 "cells": [
  {
   "cell_type": "code",
   "execution_count": null,
   "metadata": {},
   "outputs": [],
   "source": [
    "import os\n",
    "\n",
    "# clone the repository\n",
    "%cd /content\n",
    "if not os.path.exists('MODNet'):\n",
    "  !git clone https://github.com/ZHKKKe/MODNet\n",
    "%cd MODNet/\n",
    "\n",
    "# dowload the pre-trained ckpt for image matting\n",
    "pretrained_ckpt = 'pretrained/modnet_photographic_portrait_matting.ckpt'\n",
    "if not os.path.exists(pretrained_ckpt):\n",
    "  !gdown --id 1mcr7ALciuAsHCpLnrtG_eop5-EYhbCmz \\\n",
    "          -O pretrained/modnet_photographic_portrait_matting.ckpt\n"
   ]
  },
  {
   "cell_type": "code",
   "execution_count": null,
   "metadata": {},
   "outputs": [],
   "source": [
    "# import os\n",
    "# import shutil\n",
    "\n",
    "# # clean and rebuild the image folders\n",
    "# input_folder = 'demo/image_matting/colab/input'\n",
    "# if os.path.exists(input_folder):\n",
    "#   shutil.rmtree(input_folder)\n",
    "# os.makedirs(input_folder)\n",
    "\n",
    "# output_folder = 'demo/image_matting/colab/input'\n",
    "# if os.path.exists(output_folder):\n",
    "#   shutil.rmtree(output_folder)\n",
    "# os.makedirs(output_folder)\n"
   ]
  },
  {
   "cell_type": "code",
   "execution_count": null,
   "metadata": {},
   "outputs": [],
   "source": [
    "!python -m demo.image_matting.colab.inference \\\n",
    "        --input-path images/input \\\n",
    "        --output-path images/output \\\n",
    "        --ckpt-path ./pretrained/modnet_photographic_portrait_matting.ckpt\n"
   ]
  },
  {
   "cell_type": "code",
   "execution_count": null,
   "metadata": {},
   "outputs": [],
   "source": [
    "import numpy as np\n",
    "from PIL import Image\n",
    "\n",
    "def combined_display(image, matte):\n",
    "  # calculate display resolution\n",
    "  w, h = image.width, image.height\n",
    "  rw, rh = 800, int(h * 800 / (3 * w))\n",
    "  \n",
    "  # obtain predicted foreground\n",
    "  image = np.asarray(image)\n",
    "  if len(image.shape) == 2:\n",
    "    image = image[:, :, None]\n",
    "  if image.shape[2] == 1:\n",
    "    image = np.repeat(image, 3, axis=2)\n",
    "  elif image.shape[2] == 4:\n",
    "    image = image[:, :, 0:3]\n",
    "  matte = np.repeat(np.asarray(matte)[:, :, None], 3, axis=2) / 255\n",
    "  foreground = image * matte + np.full(image.shape, 255) * (1 - matte)\n",
    "  \n",
    "  # combine image, foreground, and alpha into one line\n",
    "  combined = np.concatenate((image, foreground, matte * 255), axis=1)\n",
    "  combined = Image.fromarray(np.uint8(combined)).resize((rw, rh))\n",
    "  return combined\n",
    "\n",
    "# visualize all images\n",
    "input_folder = 'images/input'\n",
    "output_folder = 'images/output'\n",
    "\n",
    "image_names = os.listdir(input_folder)\n",
    "for image_name in image_names:\n",
    "  if os.path.isdir(os.path.join(input_folder, image_name)):\n",
    "    continue;\n",
    "    \n",
    "  matte_name = image_name.split('.')[0] + '.png'\n",
    "  image = Image.open(os.path.join(input_folder, image_name))\n",
    "  matte = Image.open(os.path.join(output_folder, matte_name))\n",
    "  display(combined_display(image, matte))\n",
    "  print(image_name, '\\n')"
   ]
  },
  {
   "cell_type": "code",
   "execution_count": null,
   "metadata": {},
   "outputs": [],
   "source": [
    "# Create model artifact\n",
    "\n",
    "import tarfile\n",
    "\n",
    "with tarfile.open(\"model.tar.gz\", \"w:gz\") as f:\n",
    "    f.add(\"pretrained/modnet_photographic_portrait_matting.ckpt\")"
   ]
  },
  {
   "cell_type": "code",
   "execution_count": null,
   "metadata": {},
   "outputs": [],
   "source": [
    "# Upload model archive to S3\n",
    "\n",
    "import boto3\n",
    "import sagemaker\n",
    "\n",
    "role = sagemaker.get_execution_role()\n",
    "sess = sagemaker.Session()\n",
    "region = sess.boto_region_name\n",
    "bucket = sess.default_bucket()\n",
    "\n",
    "pt_modnet_model_data = sess.upload_data(\n",
    "    path=\"model.tar.gz\", bucket=sess.default_bucket(), key_prefix=\"model/pytorch/modnet\"\n",
    ")\n",
    "\n",
    "print(pt_modnet_model_data)"
   ]
  },
  {
   "cell_type": "code",
   "execution_count": null,
   "metadata": {},
   "outputs": [],
   "source": [
    "from sagemaker.pytorch import PyTorchModel\n",
    "\n",
    "model = PyTorchModel(\n",
    "    entry_point=\"inference.py\",\n",
    "    source_dir=\"code\",\n",
    "    role=role,\n",
    "    model_data=pt_modnet_model_data,\n",
    "    framework_version=\"1.5.0\",\n",
    "    py_version=\"py3\",\n",
    ")"
   ]
  },
  {
   "cell_type": "code",
   "execution_count": null,
   "metadata": {},
   "outputs": [],
   "source": [
    "from sagemaker.serializers import IdentitySerializer\n",
    "from sagemaker.deserializers import BytesDeserializer\n",
    "\n",
    "# set local_mode to False if you want to deploy on a remote\n",
    "# SageMaker instance\n",
    "# local mode not supported in SageMaker Studio\n",
    "\n",
    "local_mode = False\n",
    "\n",
    "if local_mode:\n",
    "    instance_type = \"local\"\n",
    "else:\n",
    "    instance_type = \"ml.g4dn.xlarge\"\n",
    "\n",
    "predictor = model.deploy(\n",
    "    initial_instance_count=1,\n",
    "    instance_type=instance_type,\n",
    "    serializer=IdentitySerializer(),\n",
    "    deserializer=BytesDeserializer(),\n",
    ")"
   ]
  },
  {
   "cell_type": "code",
   "execution_count": null,
   "metadata": {},
   "outputs": [],
   "source": [
    "# use this to update endpoint with new inference code\n",
    "\n",
    "# predictor.delete_endpoint(delete_endpoint_config=True)\n",
    "# model.delete_model()\n",
    "\n",
    "# predictor = model.deploy(\n",
    "#     initial_instance_count=1,\n",
    "#     instance_type=instance_type,\n",
    "#     serializer=IdentitySerializer(),\n",
    "#     deserializer=BytesDeserializer(),\n",
    "# )"
   ]
  },
  {
   "cell_type": "code",
   "execution_count": null,
   "metadata": {},
   "outputs": [],
   "source": [
    "# test predictor with sagemaker SDK\n",
    "\n",
    "import io\n",
    "from PIL import Image\n",
    "\n",
    "file = open(os.path.join('images/input', 'download.jeg'), 'rb')\n",
    "\n",
    "res = predictor.predict(file, {'Accept': 'application/octet-stream'})\n",
    "                \n",
    "print(res)"
   ]
  },
  {
   "cell_type": "code",
   "execution_count": null,
   "metadata": {},
   "outputs": [],
   "source": [
    "# test predictor with API\n",
    "# do this call from Lambda/EC2/Container etc\n",
    "import boto3\n",
    "import os\n",
    "from PIL import Image\n",
    "import io\n",
    "\n",
    "runtime= boto3.client('runtime.sagemaker')\n",
    "\n",
    "file = open(os.path.join('images/input', 'download.jpg'), 'rb')\n",
    "endpoint_name = predictor.endpoint_name\n",
    "\n",
    "response = runtime.invoke_endpoint(\n",
    "  EndpointName=endpoint_name,\n",
    "  Accept='application/octetstream',\n",
    "  ContentType='application/octetstream',\n",
    "  Body=file\n",
    ")\n",
    "\n",
    "res_byte_im = response['Body'].read()\n",
    "\n",
    "# print(res_byte_im)\n",
    "\n",
    "api_im = Image.open(os.path.join('images/input', 'download.jpg'))\n",
    "api_matte = Image.open(io.BytesIO(res_byte_im))\n",
    "display(combined_display(api_im, api_matte))"
   ]
  },
  {
   "cell_type": "code",
   "execution_count": null,
   "metadata": {},
   "outputs": [],
   "source": []
  }
 ],
 "metadata": {
  "instance_type": "ml.g4dn.xlarge",
  "kernelspec": {
   "display_name": "Python 3 (PyTorch 1.10 Python 3.8 GPU Optimized)",
   "language": "python",
   "name": "python3__SAGEMAKER_INTERNAL__arn:aws:sagemaker:ap-southeast-1:492261229750:image/pytorch-1.10-gpu-py38"
  },
  "language_info": {
   "codemirror_mode": {
    "name": "ipython",
    "version": 3
   },
   "file_extension": ".py",
   "mimetype": "text/x-python",
   "name": "python",
   "nbconvert_exporter": "python",
   "pygments_lexer": "ipython3",
   "version": "3.8.10"
  }
 },
 "nbformat": 4,
 "nbformat_minor": 4
}
